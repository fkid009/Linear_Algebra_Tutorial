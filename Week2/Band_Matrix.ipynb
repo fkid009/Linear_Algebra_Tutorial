{
 "cells": [
  {
   "cell_type": "code",
   "execution_count": 68,
   "metadata": {},
   "outputs": [],
   "source": [
    "from scipy import linalg\n",
    "import time\n",
    "import numpy as np"
   ]
  },
  {
   "cell_type": "code",
   "execution_count": 19,
   "metadata": {},
   "outputs": [],
   "source": [
    "def get_banded(matrix: np.ndarray, lbw: int, upw: int) -> np.ndarray:\n",
    "    rows, cols = matrix.shape\n",
    "    total_bands = lbw + upw + 1\n",
    "\n",
    "    # Initialize bands array with zeros of the required size\n",
    "    bands = np.zeros((total_bands, cols), dtype=matrix.dtype)\n",
    "    lengths = np.zeros(total_bands, dtype=int)\n",
    "\n",
    "    # Extract the bands from the matrix\n",
    "    for i in range(rows):\n",
    "        for j in range(max(0, i - lbw), min(cols, i + upw + 1)):\n",
    "            band_index = i - j + upw\n",
    "            bands[band_index, lengths[band_index]] = matrix[i, j]\n",
    "            lengths[band_index] += 1\n",
    "\n",
    "    # Adjust alignment\n",
    "    for idx in range(total_bands):\n",
    "        current_length = lengths[idx]\n",
    "        if idx < upw:  # Right-align upper bands\n",
    "            bands[idx] = np.roll(bands[idx], cols - current_length)\n",
    "        else:  # Left-align middle and lower bands (already left-aligned)\n",
    "            bands[idx, current_length:] = 0  # Fill remaining cells with zeros\n",
    "\n",
    "    return bands"
   ]
  },
  {
   "cell_type": "markdown",
   "metadata": {},
   "source": [
    "# Band Matrix Solver\n",
    "\n",
    "A **Band Matrix** is a sparse matrix whose non-zero entries are confined to a diagonal band, comprising the main diagonal and a few diagonals on either side. Band matrices appear frequently in numerical analysis, especially when dealing with differential equations and systems with local interactions.\n",
    "\n",
    "\n",
    "### `linalg.solve_banded`\n",
    "The `linalg.solve_banded` function in SciPy provides an efficient way to solve banded systems of linear equations. It leverages the fact that the majority of the entries are zeros, improving both computational efficiency and memory usage.\n",
    "\n",
    "#### LU Decomposition\n",
    "The solver applies LU decomposition, which is modified to handle banded matrices by storing only the relevant diagonals. This approach significantly reduces the computational complexity compared to working with a full matrix.\n",
    "\n",
    "#### Tridiagonal Solver\n",
    "A special case of the band matrix solver is the **tridiagonal solver**, where the lower and upper bandwidths are both equal to 1 (`lbw = 1, ubw = 1`). This specific case allows for even more efficient algorithms, such as the Thomas algorithm, which operates in linear time."
   ]
  },
  {
   "cell_type": "code",
   "execution_count": 27,
   "metadata": {},
   "outputs": [],
   "source": [
    "b = np.ones((5, ), dtype = np.float64)\n",
    "\n",
    "A1 = np.array([\n",
    "    [1, 2, 0, 0, 0],\n",
    "    [1, 4, 1, 0, 0],\n",
    "    [5, 0, 1, 2, 0],\n",
    "    [0, 1, 2, 2, 1],\n",
    "    [0, 0, 2, 1, 1]\n",
    "], dtype = np.float64)\n",
    "\n",
    "A2 = np.array([\n",
    "    [2, 1, 0, 0, 0],\n",
    "    [1, 2, 1, 0, 0],\n",
    "    [0, 1, 2, 1, 0],\n",
    "    [0, 0, 1, 2, 1],\n",
    "    [0, 0, 0, 1, 2]\n",
    "], dtype = np.float64)"
   ]
  },
  {
   "cell_type": "code",
   "execution_count": 20,
   "metadata": {},
   "outputs": [],
   "source": [
    "A1_band = get_banded(A1, 2, 1)"
   ]
  },
  {
   "cell_type": "code",
   "execution_count": null,
   "metadata": {},
   "outputs": [],
   "source": [
    "A2_band = get_banded(A2, 1, 1)"
   ]
  },
  {
   "cell_type": "code",
   "execution_count": 24,
   "metadata": {},
   "outputs": [
    {
     "name": "stdout",
     "output_type": "stream",
     "text": [
      "[[0. 2. 1. 2. 1.]\n",
      " [1. 4. 1. 2. 1.]\n",
      " [1. 0. 2. 1. 0.]\n",
      " [5. 1. 2. 0. 0.]]\n"
     ]
    }
   ],
   "source": [
    "print(A1_band)"
   ]
  },
  {
   "cell_type": "code",
   "execution_count": 25,
   "metadata": {},
   "outputs": [
    {
     "name": "stdout",
     "output_type": "stream",
     "text": [
      "[[0. 1. 1. 1. 1.]\n",
      " [2. 2. 2. 2. 2.]\n",
      " [1. 1. 1. 1. 0.]]\n"
     ]
    }
   ],
   "source": [
    "print(A2_band)"
   ]
  },
  {
   "cell_type": "code",
   "execution_count": 28,
   "metadata": {},
   "outputs": [],
   "source": [
    "x1 = linalg.solve_banded((2, 1), A1_band, b)\n",
    "x2 = linalg.solve_banded((1, 1), A2_band, b)"
   ]
  },
  {
   "cell_type": "code",
   "execution_count": 29,
   "metadata": {},
   "outputs": [
    {
     "name": "stdout",
     "output_type": "stream",
     "text": [
      "[ 0.42857143  0.28571429 -0.57142857 -0.28571429  2.42857143]\n"
     ]
    }
   ],
   "source": [
    "print(x1)"
   ]
  },
  {
   "cell_type": "code",
   "execution_count": 30,
   "metadata": {},
   "outputs": [
    {
     "name": "stdout",
     "output_type": "stream",
     "text": [
      "[0.5 0.  0.5 0.  0.5]\n"
     ]
    }
   ],
   "source": [
    "print(x2)"
   ]
  },
  {
   "cell_type": "markdown",
   "metadata": {},
   "source": [
    "\n",
    "\n",
    "### Positive Definite Band Matrix Solver\n",
    "A matrix is **Positive Definite** if it is symmetric (for real matrices) or Hermitian (for complex matrices) and all of its eigenvalues are positive. When the band matrix is also positive definite, additional optimizations can be applied during the solving process.\n",
    "\n",
    "- **Symmetric or Hermitian Property:** Positive definite matrices are either symmetric (real-valued) or Hermitian (complex-valued). This property can be exploited to reduce computational costs when solving banded systems.\n",
    "- **Cholesky Decomposition:** When the matrix is positive definite, a Cholesky decomposition can be applied, further improving efficiency over standard LU decomposition.\n",
    "- **LDLᵀ Decomposition:** Another efficient technique for positive definite matrices is the **LDLᵀ decomposition**, where the matrix \\( A \\) is decomposed into \\( A = LDL^T \\). Here, \\( L \\) is a lower triangular matrix with unit diagonal entries, and \\( D \\) is a diagonal matrix. This decomposition is particularly useful when the matrix is symmetric and not necessarily positive definite, but becomes especially efficient when \\( A \\) is positive definite."
   ]
  },
  {
   "cell_type": "code",
   "execution_count": 46,
   "metadata": {},
   "outputs": [],
   "source": [
    "def get_band_h(matrix, lbw, upw):\n",
    "    banded = get_banded(matrix, lbw, upw)\n",
    "\n",
    "    n_row, n_col = banded.shape\n",
    "    mid = (n_row // 2) + 1\n",
    "\n",
    "    return banded[0:mid]"
   ]
  },
  {
   "cell_type": "code",
   "execution_count": 59,
   "metadata": {},
   "outputs": [],
   "source": [
    "b1 = np.ones((4, ), dtype = np.float64)\n",
    "b2 = np.ones((5, ), dtype = np.float64)\n",
    "\n",
    "A1 = np.array([\n",
    "    [8, 2-1j, 0, 0],\n",
    "    [2 + 1j, 5, 1j, 0],\n",
    "    [0, -1j, 9, -2 - 1j],\n",
    "    [0, 0, -2 + 1j, 6]\n",
    "], dtype = np.complex128)\n",
    "\n",
    "A2 = np.array([\n",
    "    [2, 1, 0, 0, 0],\n",
    "    [1, 2, 1, 0, 0],\n",
    "    [0, 1, 2, 1, 0],\n",
    "    [0, 0, 1, 2, 1],\n",
    "    [0, 0, 0, 1, 2]\n",
    "], dtype = np.float64)"
   ]
  },
  {
   "cell_type": "code",
   "execution_count": 60,
   "metadata": {},
   "outputs": [],
   "source": [
    "A1_band_h = get_band_h(A1, 1, 1)\n",
    "A2_band_h = get_band_h(A2, 1, 1)"
   ]
  },
  {
   "cell_type": "code",
   "execution_count": 61,
   "metadata": {},
   "outputs": [
    {
     "name": "stdout",
     "output_type": "stream",
     "text": [
      "[[ 0.+0.j  2.-1.j  0.+1.j -2.-1.j]\n",
      " [ 8.+0.j  5.+0.j  9.+0.j  6.+0.j]]\n"
     ]
    }
   ],
   "source": [
    "print(A1_band_h)"
   ]
  },
  {
   "cell_type": "code",
   "execution_count": 62,
   "metadata": {},
   "outputs": [
    {
     "name": "stdout",
     "output_type": "stream",
     "text": [
      "[[0. 1. 1. 1. 1.]\n",
      " [2. 2. 2. 2. 2.]]\n"
     ]
    }
   ],
   "source": [
    "print(A2_band_h)"
   ]
  },
  {
   "cell_type": "code",
   "execution_count": 64,
   "metadata": {},
   "outputs": [],
   "source": [
    "x1 = linalg.solveh_banded(A1_band_h, b1, lower = False)\n",
    "x2 = linalg.solveh_banded(A2_band_h, b2, lower = False)"
   ]
  },
  {
   "cell_type": "code",
   "execution_count": 66,
   "metadata": {},
   "outputs": [
    {
     "name": "stdout",
     "output_type": "stream",
     "text": [
      "[0.08818236+0.03959208j 0.18116377-0.06778644j 0.17156569+0.04259148j\n",
      " 0.23095381-0.01439712j]\n"
     ]
    }
   ],
   "source": [
    "print(x1)"
   ]
  },
  {
   "cell_type": "code",
   "execution_count": 67,
   "metadata": {},
   "outputs": [
    {
     "name": "stdout",
     "output_type": "stream",
     "text": [
      "[0.5 0.  0.5 0.  0.5]\n"
     ]
    }
   ],
   "source": [
    "print(x2)"
   ]
  },
  {
   "cell_type": "markdown",
   "metadata": {},
   "source": [
    "\n",
    "\n",
    "### Why Use Specialized Solvers for Band Matrices?\n",
    "The primary reason for using specialized solvers for band matrices is computational efficiency. \n",
    "\n",
    "#### Time Comparison\n",
    "To illustrate this, we compare the time taken to solve a 1000 x 1000 tridiagonal system using both the standard full matrix solver (`solve`) and the band matrix solver (`solve_banded`):\n",
    "\n",
    "- **General Matrix Solver (`solve`)**: ~ **51.08 seconds**\n",
    "- **Band Matrix Solver (`solve_banded`)**: ~ **0.0003 seconds (0.3 milliseconds)**\n",
    "\n",
    "The band matrix solver is significantly faster because it only considers the non-zero entries within the band, skipping over the unnecessary zero entries. As matrix sizes increase, the efficiency improvement becomes even more pronounced.\n",
    "\n"
   ]
  },
  {
   "cell_type": "code",
   "execution_count": 70,
   "metadata": {},
   "outputs": [
    {
     "data": {
      "text/plain": [
       "(0.022999286651611328, 0.0)"
      ]
     },
     "execution_count": 70,
     "metadata": {},
     "output_type": "execute_result"
    }
   ],
   "source": [
    "np.random.seed(0)\n",
    "n = 1000\n",
    "main_diag = 2 * np.ones(n)\n",
    "upper_diag = -1 * np.ones(n - 1)\n",
    "lower_diag = -1 * np.ones(n - 1)\n",
    "\n",
    "ab = np.zeros((3, n))\n",
    "ab[0, 1:] = upper_diag\n",
    "ab[1, :] = main_diag\n",
    "ab[2, :-1] = lower_diag\n",
    "\n",
    "A_full = np.diag(main_diag) + np.diag(upper_diag, 1) + np.diag(lower_diag, -1)\n",
    "\n",
    "b = np.random.randn(n)\n",
    "\n",
    "start_full = time.time()\n",
    "x_full = linalg.solve(A_full, b)\n",
    "time_full = time.time() - start_full\n",
    "\n",
    "start_banded = time.time()\n",
    "x_banded = linalg.solve_banded((1, 1), ab, b)\n",
    "time_banded = time.time() - start_banded\n",
    "\n",
    "(time_full, time_banded)"
   ]
  },
  {
   "cell_type": "code",
   "execution_count": null,
   "metadata": {},
   "outputs": [],
   "source": []
  }
 ],
 "metadata": {
  "kernelspec": {
   "display_name": "any",
   "language": "python",
   "name": "python3"
  },
  "language_info": {
   "codemirror_mode": {
    "name": "ipython",
    "version": 3
   },
   "file_extension": ".py",
   "mimetype": "text/x-python",
   "name": "python",
   "nbconvert_exporter": "python",
   "pygments_lexer": "ipython3",
   "version": "3.9.21"
  }
 },
 "nbformat": 4,
 "nbformat_minor": 2
}
