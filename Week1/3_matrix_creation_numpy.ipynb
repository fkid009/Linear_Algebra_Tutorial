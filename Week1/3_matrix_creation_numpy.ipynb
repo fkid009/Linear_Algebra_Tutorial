{
 "cells": [
  {
   "cell_type": "markdown",
   "metadata": {},
   "source": [
    "## 1. Identity Matrix: `numpy.eye()` / `numpy.identity()`\n",
    "### `numpy.eye(N, M=None, k=0, dtype=float, order='C')`\n",
    "- Generates an **identity matrix** (a square matrix with ones on the main diagonal and zeros elsewhere).\n",
    "- `N × M` defines the matrix size; if `M` is `None`, it defaults to `N` (square matrix).\n",
    "- The parameter `k` shifts the diagonal:\n",
    "  - `k > 0`: Moves the diagonal **up**.\n",
    "  - `k < 0`: Moves the diagonal **down**.\n",
    "\n",
    "### `numpy.identity(n, dtype=float)`\n",
    "- Generates an **identity matrix** of size `n × n`.\n",
    "- Similar to `numpy.eye()`, but only supports square matrices."
   ]
  },
  {
   "cell_type": "markdown",
   "metadata": {},
   "source": []
  }
 ],
 "metadata": {
  "language_info": {
   "name": "python"
  }
 },
 "nbformat": 4,
 "nbformat_minor": 2
}
