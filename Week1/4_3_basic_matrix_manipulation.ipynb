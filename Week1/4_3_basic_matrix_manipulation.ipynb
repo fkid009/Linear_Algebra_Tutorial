{
 "cells": [
  {
   "cell_type": "markdown",
   "metadata": {},
   "source": [
    "## 1. Addition and Subtraction of Matrices  \n",
    "- Matrices must have the same shape to be added or subtracted.  \n",
    "- The operation is performed element-wise, meaning each corresponding element from both matrices is added or subtracted.  "
   ]
  },
  {
   "cell_type": "markdown",
   "metadata": {},
   "source": []
  }
 ],
 "metadata": {
  "language_info": {
   "name": "python"
  }
 },
 "nbformat": 4,
 "nbformat_minor": 2
}
