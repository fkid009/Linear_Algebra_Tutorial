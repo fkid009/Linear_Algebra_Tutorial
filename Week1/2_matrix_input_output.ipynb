{
 "cells": [
  {
   "cell_type": "code",
   "execution_count": 2,
   "metadata": {},
   "outputs": [],
   "source": [
    "import numpy as np"
   ]
  },
  {
   "cell_type": "markdown",
   "metadata": {},
   "source": [
    "# read matrix or vector from txt file"
   ]
  },
  {
   "cell_type": "code",
   "execution_count": 3,
   "metadata": {},
   "outputs": [],
   "source": [
    "a = np.genfromtxt(\"./2_/input1.txt\", dtype = np.float64, delimiter = \" \")\n"
   ]
  },
  {
   "cell_type": "code",
   "execution_count": 4,
   "metadata": {},
   "outputs": [
    {
     "name": "stdout",
     "output_type": "stream",
     "text": [
      "[[ 1.   2.5  3. ]\n",
      " [-1.  -2.  -1.5]\n",
      " [ 4.   5.   6. ]]\n"
     ]
    }
   ],
   "source": [
    "print(a)"
   ]
  },
  {
   "cell_type": "code",
   "execution_count": 18,
   "metadata": {},
   "outputs": [],
   "source": [
    "a = np.genfromtxt(\"./2_/input2.txt\", dtype = np.float64, delimiter = \",\")"
   ]
  },
  {
   "cell_type": "code",
   "execution_count": 6,
   "metadata": {},
   "outputs": [
    {
     "name": "stdout",
     "output_type": "stream",
     "text": [
      "[[ 1.   2.5  3. ]\n",
      " [-1.  -2.  -1.5]\n",
      " [ 4.   5.   6. ]]\n"
     ]
    }
   ],
   "source": [
    "print(a)"
   ]
  },
  {
   "cell_type": "code",
   "execution_count": 7,
   "metadata": {},
   "outputs": [],
   "source": [
    "a = np.genfromtxt(\"./2_/input2.txt\", dtype = np.complex128, delimiter = \",\")"
   ]
  },
  {
   "cell_type": "code",
   "execution_count": 8,
   "metadata": {},
   "outputs": [
    {
     "name": "stdout",
     "output_type": "stream",
     "text": [
      "[[ 1. +0.j  2.5+0.j  3. +0.j]\n",
      " [-1. +0.j -2. +0.j -1.5+0.j]\n",
      " [ 4. +0.j  5. +0.j  6. +0.j]]\n"
     ]
    }
   ],
   "source": [
    "print(a)"
   ]
  },
  {
   "cell_type": "markdown",
   "metadata": {},
   "source": [
    "## Complex matrix or vector"
   ]
  },
  {
   "cell_type": "code",
   "execution_count": 9,
   "metadata": {},
   "outputs": [],
   "source": [
    "a = np.genfromtxt(\"./2_/cinput1.txt\", dtype=np.complex128, delimiter=\" \")"
   ]
  },
  {
   "cell_type": "code",
   "execution_count": 10,
   "metadata": {},
   "outputs": [
    {
     "name": "stdout",
     "output_type": "stream",
     "text": [
      "[[1.-2.j 3.+1.j 1.+0.j]\n",
      " [1.+2.j 2.-1.j 7.+0.j]]\n"
     ]
    }
   ],
   "source": [
    "print(a)"
   ]
  },
  {
   "cell_type": "code",
   "execution_count": 17,
   "metadata": {},
   "outputs": [],
   "source": [
    "a = np.genfromtxt(\"./2_/cinput2.txt\", dtype=np.complex128, delimiter=\",\")"
   ]
  },
  {
   "cell_type": "code",
   "execution_count": 12,
   "metadata": {},
   "outputs": [
    {
     "name": "stdout",
     "output_type": "stream",
     "text": [
      "[[1.-2.j 3.+1.j 1.+0.j]\n",
      " [1.+2.j 2.-1.j 7.+0.j]]\n"
     ]
    }
   ],
   "source": [
    "print(a)"
   ]
  },
  {
   "cell_type": "code",
   "execution_count": 13,
   "metadata": {},
   "outputs": [],
   "source": [
    "a = np.genfromtxt(\"./2_/cinput2.txt\", dtype=np.float64, delimiter=\",\")"
   ]
  },
  {
   "cell_type": "code",
   "execution_count": 15,
   "metadata": {},
   "outputs": [
    {
     "name": "stdout",
     "output_type": "stream",
     "text": [
      "[[nan nan  1.]\n",
      " [nan nan  7.]]\n"
     ]
    }
   ],
   "source": [
    "print(a)"
   ]
  },
  {
   "cell_type": "markdown",
   "metadata": {},
   "source": [
    "# Floating-Point Number Formatting\n",
    "\n",
    "## 1. Basic Floating-Point Output\n",
    "- `123.456789`\n",
    "- `0.123456789×10³`\n",
    "- `0.123456789e03`\n",
    "- `1.23456789e02`\n",
    "\n",
    "## 2. Formatting Specific Output\n",
    "### Floating Format (4 Decimal Places)\n",
    "- Output: `123.4567`\n",
    "- Format: `\"%0.4f\"` or `'%0.4f'`\n",
    "\n",
    "### Scientific Format (2 Decimal Places)\n",
    "- Output: `1.23e2`\n",
    "- Format: `\"%0.2e\"` or `'%0.2e'`\n",
    "\n",
    "## 3. Important Note\n",
    "- **Output beyond 15 digits is meaningless**\n"
   ]
  },
  {
   "cell_type": "code",
   "execution_count": 22,
   "metadata": {},
   "outputs": [],
   "source": [
    "a = np.genfromtxt(\"./2_/input1.txt\", dtype = np.float64, delimiter = \" \")\n",
    "\n",
    "np.savetxt(\"./2_/output1.txt\", a, fmt = \"%0.2f\", delimiter=\",\")"
   ]
  },
  {
   "cell_type": "code",
   "execution_count": 23,
   "metadata": {},
   "outputs": [],
   "source": [
    "a = np.genfromtxt(\"./2_/cinput2.txt\", dtype=np.complex128, delimiter=\",\")\n",
    "\n",
    "np.savetxt(\"./2_/coutput1.txt\", a, fmt = \"%0.4f\", delimiter=\",\")"
   ]
  },
  {
   "cell_type": "code",
   "execution_count": null,
   "metadata": {},
   "outputs": [],
   "source": []
  }
 ],
 "metadata": {
  "kernelspec": {
   "display_name": "any",
   "language": "python",
   "name": "python3"
  },
  "language_info": {
   "codemirror_mode": {
    "name": "ipython",
    "version": 3
   },
   "file_extension": ".py",
   "mimetype": "text/x-python",
   "name": "python",
   "nbconvert_exporter": "python",
   "pygments_lexer": "ipython3",
   "version": "3.9.21"
  }
 },
 "nbformat": 4,
 "nbformat_minor": 2
}
